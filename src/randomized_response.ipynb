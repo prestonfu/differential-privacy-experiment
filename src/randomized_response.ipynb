{
 "cells": [
  {
   "cell_type": "markdown",
   "metadata": {},
   "source": [
    "# Randomized Response Algorithm\n",
    "\n",
    "### Scenario\n",
    "\n",
    "Suppose we would like to evaluate the proportion of students at a local university who have violated the Honor Code. There are, however, a few concerns:\n",
    "\n",
    "* *Students are uncomfortable with sharing the truth.*\n",
    "\n",
    "* *The results of the survey are not confidential.* Assume, for instance, that 10 people filled out the survey, and it is known that 20% of respondents put 'Yes (violated).' If you know that 8 respondents put 'No,' then the remaining two people must have put 'Yes.' (Such a concern could also happen directly if I'm not careful and release the data.)\n",
    "\n",
    "We would therefore like to maintain sufficient accuracy in estimating the fraction of students who violated the Honor Code while affording **plausible deniability** to survey participants. We develop a **local differential privacy** model by adding random noise to individual survey responses, implemented with the following randomized response algorithm."
   ]
  },
  {
   "cell_type": "markdown",
   "metadata": {},
   "source": [
    "### Proposal\n",
    "\n",
    "We propose the following mechanism:\n",
    "\n",
    "<img src=\"http://zouds.com/public/inspirit/coin_flip_flow.png\"/>\n",
    "\n",
    "It is easy to see that this randomized algorithm correctly outputs participants' with probability 0.75."
   ]
  },
  {
   "cell_type": "code",
   "execution_count": 1,
   "metadata": {
    "id": "Sc6Qdpdk7TzK"
   },
   "outputs": [],
   "source": [
    "import numpy as np\n",
    "\n",
    "def randomized_response_algorithm(actual_response):\n",
    "  output = None\n",
    "\n",
    "  coin = np.random.randint(2)\n",
    "  if coin==0:\n",
    "    output = actual_response\n",
    "\n",
    "  else:\n",
    "    coin = np.random.randint(2)\n",
    "    if coin==0:\n",
    "      output = True\n",
    "    if coin==1:\n",
    "      output = False\n",
    "\n",
    "  return output"
   ]
  },
  {
   "cell_type": "code",
   "execution_count": 2,
   "metadata": {
    "colab": {
     "base_uri": "https://localhost:8080/"
    },
    "id": "c-jcqw0H8POK",
    "outputId": "734e3759-cfc5-421f-f92b-071188093ced"
   },
   "outputs": [
    {
     "name": "stdout",
     "output_type": "stream",
     "text": [
      "764 of 1000 students who responded False were marked accurately\n",
      "759 of 1000 students who responded True were marked accurately\n"
     ]
    }
   ],
   "source": [
    "N = 1000\n",
    "\n",
    "for actual_response in range(2):\n",
    "  sum = 0\n",
    "  for i in range(N):\n",
    "    sum += (randomized_response_algorithm(actual_response)==actual_response)\n",
    "  print(\"{sum} of {N} students who responded {actual_response} were marked accurately\".format(\n",
    "    sum=sum, N=N, actual_response=bool(actual_response)))"
   ]
  },
  {
   "cell_type": "markdown",
   "metadata": {
    "id": "USR6I1hW-BOz"
   },
   "source": [
    "### Using the algorithm\n",
    "\n",
    "**Claim.**  $$\\text{Pr}(\\textsf{Violated}) = 2\\text{Pr}(\\textsf{Yes}) - 0.5,$$\n",
    "\n",
    "where $\\text{Pr}(\\textsf{Violated})$ is the estimated proportion of honor code violators and $\\text{Pr}(\\textsf{Yes})$ is the probability that a randomized response is 'Yes.'\n",
    "\n",
    "*Proof:* Observe that\n",
    "\n",
    "\\begin{align*}\n",
    "\\text{Pr}(\\textsf{Yes}) &= \\text{Pr}(\\textsf{Yes, Violated}) + \\text{Pr}(\\textsf{Yes, Not Violated}) \\\\\n",
    "&= \\text{Pr}(\\textsf{Yes} \\mid \\textsf{Violated}) \\text{Pr}(\\textsf{Violated}) + \\text{Pr}(\\textsf{Yes} \\mid \\textsf{Not Violated}) \\text{Pr}(\\textsf{Not Violated})\n",
    "\\end{align*}\n",
    "\n",
    "Rearranging,\n",
    "\n",
    "$$\\text{Pr}(\\textsf{Violated}) = \\frac{\\text{Pr}(\\textsf{Yes}) - \\text{Pr}(\\textsf{Yes} \\mid \\textsf{Not Violated})}{\\text{Pr}(\\textsf{Yes} \\mid \\textsf{Violated}) - \\text{Pr}(\\textsf{Yes} \\mid \\textsf{Not Violated})}.$$\n",
    "\n",
    "Since $\\text{Pr}(\\textsf{Yes} \\mid \\textsf{Not Violated}) = 0.25$ and $\\text{Pr}(\\textsf{Yes} \\mid \\textsf{Violated}) = 0.75$ (as verified with our above simulation),\n",
    "\n",
    "$$\\text{Pr}(\\textsf{Violated}) = \\frac{\\text{Pr}(\\textsf{Yes}) - 0.25}{0.5} = 2\\text{Pr}(\\textsf{Yes}) - 0.5$$\n",
    "\n",
    "as claimed. $\\blacksquare$\n",
    "\n",
    "See line 12 below."
   ]
  },
  {
   "cell_type": "code",
   "execution_count": 5,
   "metadata": {
    "colab": {
     "base_uri": "https://localhost:8080/"
    },
    "id": "fuEB84x4LrHI",
    "outputId": "e30a7a16-fc27-44f7-ca4c-13972803ab75"
   },
   "outputs": [
    {
     "name": "stdout",
     "output_type": "stream",
     "text": [
      "Actual Honor Code violator fraction: 0.2\n",
      "Survey administrator believes Honor Code violator fraction is: 0.199\n"
     ]
    }
   ],
   "source": [
    "def run_survey(num_participants, actual_violated_fraction):\n",
    "\n",
    "  num_actual_violated = int(num_participants * actual_violated_fraction)\n",
    "  num_actual_not_violated = int(num_participants - num_actual_violated)\n",
    "  actual_statuses = [True] * num_actual_violated \\\n",
    "      + [False] * num_actual_not_violated\n",
    "  \n",
    "  yes_responses = 0.0\n",
    "  for i in range(len(actual_statuses)):\n",
    "    yes_responses += randomized_response_algorithm(actual_statuses[i])\n",
    "  p_yes = yes_responses/len(actual_statuses)\n",
    "\n",
    "  return 2*p_yes - 0.5\n",
    "\n",
    "num = 50000\n",
    "frac = 0.2\n",
    "p_violated = run_survey(num_participants=num, actual_violated_fraction=frac)\n",
    "  \n",
    "print(\"Actual Honor Code violator fraction:\", frac)\n",
    "print(\"Survey administrator believes Honor Code violator fraction is:\",\\\n",
    "      round(p_violated, 3))\n"
   ]
  },
  {
   "cell_type": "code",
   "execution_count": 24,
   "metadata": {},
   "outputs": [
    {
     "data": {
      "image/png": "[encoded data removed]",
      "text/plain": [
       "<Figure size 432x288 with 1 Axes>"
      ]
     },
     "metadata": {
      "needs_background": "light"
     },
     "output_type": "display_data"
    }
   ],
   "source": [
    "from matplotlib import pyplot as plt\n",
    "\n",
    "def plot_survey(rounds,\n",
    "                num_participants,\n",
    "                actual_violated_fraction):\n",
    "\n",
    "  data = np.empty([0])\n",
    "  for i in range(rounds):\n",
    "    data = np.append(\n",
    "      data, run_survey(num_participants, actual_violated_fraction)\n",
    "    )\n",
    "\n",
    "  plt.hist(data, bins=30)\n",
    "  plt.xlabel('Survey estimate')\n",
    "  plt.ylabel('Frequency')\n",
    "  plt.show()\n",
    "\n",
    "plot_survey(10000, 100, 0.2)"
   ]
  }
 ],
 "metadata": {
  "interpreter": {
   "hash": "834c7ca07926de45309f9f736802a9700a787ea6b47a08dcf3416aa75754e0bc"
  },
  "kernelspec": {
   "display_name": "Python 3.9.7 64-bit ('dpexperiment': conda)",
   "language": "python",
   "name": "python3"
  },
  "language_info": {
   "codemirror_mode": {
    "name": "ipython",
    "version": 3
   },
   "file_extension": ".py",
   "mimetype": "text/x-python",
   "name": "python",
   "nbconvert_exporter": "python",
   "pygments_lexer": "ipython3",
   "version": "3.9.7"
  },
  "orig_nbformat": 4
 },
 "nbformat": 4,
 "nbformat_minor": 2
}
